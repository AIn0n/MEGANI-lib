{
 "cells": [
  {
   "cell_type": "code",
   "execution_count": 2,
   "id": "4dc66895",
   "metadata": {},
   "outputs": [],
   "source": [
    "import numpy as np"
   ]
  },
  {
   "cell_type": "code",
   "execution_count": 4,
   "id": "0c84a9e3",
   "metadata": {},
   "outputs": [],
   "source": [
    "class matrix:\n",
    "    def __init__(self, data, x, y):\n",
    "        self.data = data\n",
    "        self.x = x\n",
    "        self.y = y"
   ]
  },
  {
   "cell_type": "code",
   "execution_count": 5,
   "id": "8b5663c6",
   "metadata": {},
   "outputs": [],
   "source": [
    "img_size = {\"x\" : 4, \"y\" : 3, \"z\" : 3}\n",
    "batch_size = 2\n",
    "input_mx = matrix([\n",
    "# -- first batch\n",
    "#   z0 z1 z2\n",
    "    0, 6, 3,\n",
    "    1, 2, 6,\n",
    "    4, 7, 1,\n",
    "    3, 3, 8,\n",
    "    2, 4, 4,\n",
    "    6, 0, 5,\n",
    "    7, 6, 7,\n",
    "    9, 1, 2,\n",
    "    8, 2, 0,\n",
    "    2, 8, 9,\n",
    "    5, 9, 3,\n",
    "    4, 3, 2,\n",
    "# -- second batch\n",
    "    4, 6, 3,\n",
    "    3, 2, 8,\n",
    "    2, 1, 2,\n",
    "    8, 3, 1,\n",
    "    8, 4, 0, \n",
    "    0, 5, 4,\n",
    "    4, 7, 5,\n",
    "    1, 8, 6,\n",
    "    6, 9, 3,\n",
    "    3, 1, 4,\n",
    "    9, 1, 7,\n",
    "    5, 9, 9\n",
    "], img_size[\"z\"], img_size[\"x\"] * img_size[\"y\"] * batch_size)"
   ]
  },
  {
   "cell_type": "code",
   "execution_count": 7,
   "id": "c4953ca2",
   "metadata": {},
   "outputs": [],
   "source": [
    "kernel_size = 2"
   ]
  },
  {
   "cell_type": "code",
   "execution_count": 8,
   "id": "9bd89daf",
   "metadata": {},
   "outputs": [
    {
     "name": "stdout",
     "output_type": "stream",
     "text": [
      "[0, 0, 0, 0, 0, 0, 0, 0, 0, 0]\n"
     ]
    }
   ],
   "source": [
    "im2col_idx = []"
   ]
  }
 ],
 "metadata": {
  "kernelspec": {
   "display_name": "Python 3",
   "language": "python",
   "name": "python3"
  },
  "language_info": {
   "codemirror_mode": {
    "name": "ipython",
    "version": 3
   },
   "file_extension": ".py",
   "mimetype": "text/x-python",
   "name": "python",
   "nbconvert_exporter": "python",
   "pygments_lexer": "ipython3",
   "version": "3.8.8"
  }
 },
 "nbformat": 4,
 "nbformat_minor": 5
}
